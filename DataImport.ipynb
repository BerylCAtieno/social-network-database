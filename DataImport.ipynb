{
 "cells": [
  {
   "cell_type": "markdown",
   "id": "e6995593",
   "metadata": {},
   "source": [
    "# Importing csv files into postgres database"
   ]
  },
  {
   "cell_type": "markdown",
   "id": "e82e40db",
   "metadata": {},
   "source": [
    "## Steps\n",
    "\n",
    "- import csv into pandas dataframe\n",
    "- explore for potential inconsistencies with database schema\n",
    "- clean the table data where needed e.g. change data types\n",
    "- alter database schema where needed\n",
    "- import file into db"
   ]
  },
  {
   "cell_type": "markdown",
   "id": "47d60dcb",
   "metadata": {},
   "source": [
    "# Libraries and Modules"
   ]
  },
  {
   "cell_type": "code",
   "execution_count": 1,
   "id": "218a156f",
   "metadata": {},
   "outputs": [],
   "source": [
    "import os\n",
    "import numpy as np\n",
    "import pandas as pd\n",
    "import psycopg2\n",
    "from psycopg2 import Error\n",
    "from psycopg2.extensions import register_adapter, AsIs\n",
    "import datetime\n",
    "import csv\n",
    "from jproperties import Properties\n"
   ]
  },
  {
   "cell_type": "markdown",
   "id": "8674400a",
   "metadata": {},
   "source": [
    "## Data"
   ]
  },
  {
   "cell_type": "code",
   "execution_count": 2,
   "id": "547fcecd",
   "metadata": {},
   "outputs": [],
   "source": [
    "Person = pd.read_csv(\"social_network/person_0_0.csv\", sep='|')\n",
    "PersonEmail = pd.read_csv(\"social_network/person_email_emailaddress_0_0.csv\", sep='|')\n",
    "PersonLanguage = pd.read_csv(\"social_network/person_speaks_language_0_0.csv\", sep='|')\n",
    "Organizations = pd.read_csv(\"social_network/organisation_0_0.csv\", sep='|')\n",
    "PersonStudyAtUniversity = pd.read_csv(\"social_network/person_studyAt_organisation_0_0.csv\", sep='|')\n",
    "PersonWorkAtCompany = pd.read_csv(\"social_network/person_workAt_organisation_0_0.csv\", sep='|')\n",
    "Forum = pd.read_csv(\"social_network/forum_0_0.csv\", sep='|')\n",
    "ForumHasMember = pd.read_csv(\"social_network/forum_hasMember_person_0_0.csv\", sep='|')\n",
    "ForumHasTag = pd.read_csv(\"social_network/forum_hasTag_tag_0_0.csv\", sep='|')\n",
    "Post = pd.read_csv(\"social_network/post_0_0.csv\", sep='|')\n",
    "Comment = pd.read_csv(\"social_network/comment_0_0.csv\", sep='|')\n",
    "Comment_hastag = pd.read_csv(\"social_network/comment_hasTag_tag_0_0.csv\", sep='|')\n",
    "Tag = pd.read_csv(\"social_network/tag_0_0.csv\", sep='|')\n",
    "TagClass = pd.read_csv(\"social_network/tagclass_0_0.csv\", sep='|')\n",
    "TagClass_isSubclass = pd.read_csv(\"social_network/tagclass_isSubclassOf_tagclass_0_0.csv\", sep='|')\n",
    "PostHasTag = pd.read_csv(\"social_network/post_hasTag_tag_0_0.csv\", sep='|')\n",
    "TagHasType = pd.read_csv(\"social_network/tag_hasType_tagclass_0_0.csv\", sep='|')\n",
    "Place = pd.read_csv(\"social_network/place_0_0.csv\", sep='|')\n",
    "PersonKnowsPerson = pd.read_csv(\"social_network/person_knows_person_0_0.csv\", sep='|')\n",
    "PersonHasInterest = pd.read_csv(\"social_network/person_hasInterest_tag_0_0.csv\", sep='|')\n",
    "PersonLikesComment = pd.read_csv(\"social_network/person_likes_comment_0_0.csv\", sep='|')\n",
    "PersonLikesPost = pd.read_csv(\"social_network/person_likes_post_0_0.csv\", sep='|')"
   ]
  },
  {
   "cell_type": "markdown",
   "id": "de341289",
   "metadata": {},
   "source": [
    "## Place (City, Country, Continent)"
   ]
  },
  {
   "cell_type": "code",
   "execution_count": 4,
   "id": "6046fff0",
   "metadata": {},
   "outputs": [
    {
     "name": "stdout",
     "output_type": "stream",
     "text": [
      "<class 'pandas.core.frame.DataFrame'>\n",
      "RangeIndex: 1466 entries, 0 to 1465\n",
      "Data columns (total 5 columns):\n",
      " #   Column    Non-Null Count  Dtype  \n",
      "---  ------    --------------  -----  \n",
      " 0   id        1466 non-null   int64  \n",
      " 1   name      1466 non-null   object \n",
      " 2   url       1466 non-null   object \n",
      " 3   type      1466 non-null   object \n",
      " 4   isPartOf  1460 non-null   float64\n",
      "dtypes: float64(1), int64(1), object(3)\n",
      "memory usage: 57.4+ KB\n"
     ]
    }
   ],
   "source": [
    "Place.info()"
   ]
  },
  {
   "cell_type": "code",
   "execution_count": 5,
   "id": "8f246658",
   "metadata": {},
   "outputs": [],
   "source": [
    "continent_subset = Place[Place['type'] == 'continent']\n",
    "country_subset = Place[Place['type'] == 'country']\n",
    "city_subset = Place[Place['type'] == 'city']"
   ]
  },
  {
   "cell_type": "code",
   "execution_count": 9,
   "id": "bf7ae660",
   "metadata": {},
   "outputs": [],
   "source": [
    "#Import to Place\n",
    "\n",
    "query = \"\"\"INSERT INTO Place (\n",
    "    PlaceID, \n",
    "    name) \n",
    "    VALUES (%s, %s)\"\"\"\n",
    "\n",
    "\n",
    "connection = psycopg2.connect(\n",
    "        dbname=\"social_3\",\n",
    "        user=\"postgres\",\n",
    "        password=\"password\",\n",
    "        host=\"localhost\",\n",
    "        port=\"5432\"\n",
    "    )\n",
    "\n",
    "with connection.cursor() as cursor:\n",
    "    \n",
    "    for index, row in Place.iterrows():\n",
    "        \n",
    "        #Extracting values from dataframe\n",
    "        PlaceID_value = row['id']\n",
    "        name_value = row['name']\n",
    "        \n",
    "        \n",
    "        # Execute query\n",
    "        cursor.execute(query, (PlaceID_value, name_value))\n",
    "        connection.commit()\n",
    "\n",
    "# Close database connection\n",
    "connection.close()"
   ]
  },
  {
   "cell_type": "code",
   "execution_count": 10,
   "id": "83f4bb05",
   "metadata": {},
   "outputs": [],
   "source": [
    "#Continent\n",
    "query = \"\"\"INSERT INTO Continent (\n",
    "    ContinentID, \n",
    "    name) \n",
    "    VALUES (%s, %s)\"\"\"\n",
    "\n",
    "\n",
    "connection = psycopg2.connect(\n",
    "        dbname=\"social_3\",\n",
    "        user=\"postgres\",\n",
    "        password=\"password\",\n",
    "        host=\"localhost\",\n",
    "        port=\"5432\"\n",
    "    )\n",
    "\n",
    "with connection.cursor() as cursor:\n",
    "    \n",
    "    for index, row in continent_subset.iterrows():\n",
    "        \n",
    "        #Extracting values from dataframe\n",
    "        ContinentID_value = row['id']\n",
    "        name_value = row['name']\n",
    "        \n",
    "        \n",
    "        # Execute query\n",
    "        cursor.execute(query, (ContinentID_value, name_value))\n",
    "        connection.commit()\n",
    "\n",
    "# Close database connection\n",
    "connection.close()"
   ]
  },
  {
   "cell_type": "code",
   "execution_count": null,
   "id": "93d19220",
   "metadata": {},
   "outputs": [],
   "source": [
    "#Country\n",
    "query = \"\"\"INSERT INTO Country (\n",
    "    CountryID, \n",
    "    name,\n",
    "    IsPartOf) \n",
    "    VALUES (%s, %s, %s)\"\"\"\n",
    "\n",
    "\n",
    "connection = psycopg2.connect(\n",
    "        dbname=\"social_3\",\n",
    "        user=\"postgres\",\n",
    "        password=\"password\",\n",
    "        host=\"localhost\",\n",
    "        port=\"5432\"\n",
    "    )\n",
    "\n",
    "with connection.cursor() as cursor:\n",
    "    \n",
    "    for index, row in country_subset.iterrows():\n",
    "        \n",
    "        #Extracting values from dataframe\n",
    "        CountryID_value = row['id']\n",
    "        name_value = row['name']\n",
    "        IsPartOf_value = row['IsPartOf']\n",
    "        \n",
    "        \n",
    "        # Execute query\n",
    "        cursor.execute(query, (CountryID_value, name_value, IsPartOf_value))\n",
    "        connection.commit()\n",
    "\n",
    "# Close database connection\n",
    "connection.close()"
   ]
  },
  {
   "cell_type": "code",
   "execution_count": 30,
   "id": "8d28dc6e",
   "metadata": {
    "scrolled": true
   },
   "outputs": [],
   "source": [
    "#City\n",
    "query = \"\"\"INSERT INTO City (\n",
    "    CityID, \n",
    "    name,\n",
    "    IsPartOf) \n",
    "    VALUES (%s, %s, %s)\"\"\"\n",
    "\n",
    "\n",
    "connection = psycopg2.connect(\n",
    "        dbname=\"social_3\",\n",
    "        user=\"postgres\",\n",
    "        password=\"password\",\n",
    "        host=\"localhost\",\n",
    "        port=\"5432\"\n",
    "    )\n",
    "\n",
    "with connection.cursor() as cursor:\n",
    "    \n",
    "    for index, row in city_subset.iterrows():\n",
    "        \n",
    "        #Extracting values from dataframe\n",
    "        CityID_value = row['id']\n",
    "        name_value = row['name']\n",
    "        IsPartOf_value= row['isPartOf']\n",
    "        \n",
    "        \n",
    "        # Execute query\n",
    "        cursor.execute(query, (CityID_value, name_value, IsPartOf_value))\n",
    "        connection.commit()\n",
    "\n",
    "# Close database connection\n",
    "connection.close()"
   ]
  },
  {
   "cell_type": "markdown",
   "id": "dc465660",
   "metadata": {},
   "source": [
    "## Person Table"
   ]
  },
  {
   "cell_type": "code",
   "execution_count": 31,
   "id": "7f16b195",
   "metadata": {},
   "outputs": [
    {
     "name": "stdout",
     "output_type": "stream",
     "text": [
      "<class 'pandas.core.frame.DataFrame'>\n",
      "RangeIndex: 88 entries, 0 to 87\n",
      "Data columns (total 9 columns):\n",
      " #   Column        Non-Null Count  Dtype \n",
      "---  ------        --------------  ----- \n",
      " 0   id            88 non-null     int64 \n",
      " 1   firstName     88 non-null     object\n",
      " 2   lastName      88 non-null     object\n",
      " 3   gender        88 non-null     object\n",
      " 4   birthday      88 non-null     object\n",
      " 5   creationDate  88 non-null     object\n",
      " 6   locationIP    88 non-null     object\n",
      " 7   browserUsed   88 non-null     object\n",
      " 8   place         88 non-null     int64 \n",
      "dtypes: int64(2), object(7)\n",
      "memory usage: 6.3+ KB\n"
     ]
    }
   ],
   "source": [
    "Person.info()"
   ]
  },
  {
   "cell_type": "code",
   "execution_count": 33,
   "id": "0ea534eb",
   "metadata": {},
   "outputs": [],
   "source": [
    "#Change datatypes\n",
    "\n",
    "Person['creationDate'] = pd.to_datetime(Person['creationDate'], errors='coerce')\n",
    "Person['birthday'] = pd.to_datetime(Person['birthday'], errors='coerce')\n"
   ]
  },
  {
   "cell_type": "code",
   "execution_count": 36,
   "id": "8a97c47c",
   "metadata": {},
   "outputs": [],
   "source": [
    "#insert data\n",
    "\n",
    "query = \"\"\"INSERT INTO Person (\n",
    "    PersonID, \n",
    "    CreationDate, \n",
    "    FirstName, \n",
    "    LastName, \n",
    "    Gender, \n",
    "    Birthday, \n",
    "    BrowserUsed, \n",
    "    LocationIP,\n",
    "    Place) \n",
    "    VALUES (%s, %s, %s, %s, %s, %s, %s, %s, %s)\"\"\"\n",
    "\n",
    "\n",
    "\n",
    "#create connection by replacing the database dtails with your database info\n",
    "\n",
    "connection = psycopg2.connect(\n",
    "        dbname=\"social_3\",\n",
    "        user=\"postgres\",\n",
    "        password=\"password\",\n",
    "        host=\"localhost\",\n",
    "        port=\"5432\"\n",
    "    )\n",
    "\n",
    "   \n",
    "with connection.cursor() as cursor:\n",
    "    \n",
    "    for index, row in Person.iterrows():\n",
    "        # Extract values from the DataFrame\n",
    "        PersonID_value = row['id']\n",
    "        CreationDate_value = row['creationDate']\n",
    "        FirstName_value = row['firstName']\n",
    "        LastName_value = row['lastName']\n",
    "        Gender_value = row['gender']\n",
    "        Birthday_value = row['birthday']\n",
    "        BrowserUsed_value = row['browserUsed']\n",
    "        LocationIP_value = row['locationIP']\n",
    "        Place_value = row['place']\n",
    "        \n",
    "        # Execute the SQL query\n",
    "        cursor.execute(query, (PersonID_value,\n",
    "                               CreationDate_value,\n",
    "                               FirstName_value,\n",
    "                               LastName_value,\n",
    "                               Gender_value,\n",
    "                               Birthday_value,\n",
    "                               BrowserUsed_value,\n",
    "                               LocationIP_value,\n",
    "                              Place_value))\n",
    "        connection.commit()\n",
    "\n",
    "# Close the database connection\n",
    "connection.close()"
   ]
  },
  {
   "cell_type": "markdown",
   "id": "4ba5a0cf",
   "metadata": {},
   "source": [
    "## PersonEmail"
   ]
  },
  {
   "cell_type": "code",
   "execution_count": 30,
   "id": "4eb05cab",
   "metadata": {
    "scrolled": false
   },
   "outputs": [
    {
     "name": "stdout",
     "output_type": "stream",
     "text": [
      "<class 'pandas.core.frame.DataFrame'>\n",
      "RangeIndex: 152 entries, 0 to 151\n",
      "Data columns (total 2 columns):\n",
      " #   Column     Non-Null Count  Dtype \n",
      "---  ------     --------------  ----- \n",
      " 0   Person.id  152 non-null    int64 \n",
      " 1   email      152 non-null    object\n",
      "dtypes: int64(1), object(1)\n",
      "memory usage: 2.5+ KB\n"
     ]
    }
   ],
   "source": [
    "PersonEmail.info()"
   ]
  },
  {
   "cell_type": "code",
   "execution_count": 37,
   "id": "14977993",
   "metadata": {},
   "outputs": [],
   "source": [
    "#insert data\n",
    "\n",
    "query = \"\"\"INSERT INTO PersonEmail (\n",
    "    PersonID, \n",
    "    Email) \n",
    "    VALUES (%s, %s)\"\"\"\n",
    "\n",
    "\n",
    "\n",
    "connection = psycopg2.connect(\n",
    "        dbname=\"social_3\",\n",
    "        user=\"postgres\",\n",
    "        password=\"password\",\n",
    "        host=\"localhost\",\n",
    "        port=\"5432\"\n",
    "    )\n",
    "\n",
    "   \n",
    "with connection.cursor() as cursor:\n",
    "    \n",
    "    for index, row in PersonEmail.iterrows():\n",
    "        # Extract values from the DataFrame\n",
    "        PersonID_value = row['Person.id']\n",
    "        Email_value = row['email']\n",
    "        \n",
    "        # Execute the SQL query\n",
    "        cursor.execute(query, (PersonID_value,\n",
    "                               Email_value))\n",
    "        connection.commit()\n",
    "\n",
    "\n",
    "connection.close()"
   ]
  },
  {
   "cell_type": "markdown",
   "id": "6d88fada",
   "metadata": {},
   "source": [
    "## Language and PersonLanguage"
   ]
  },
  {
   "cell_type": "code",
   "execution_count": 38,
   "id": "a998b6c0",
   "metadata": {},
   "outputs": [
    {
     "name": "stdout",
     "output_type": "stream",
     "text": [
      "<class 'pandas.core.frame.DataFrame'>\n",
      "RangeIndex: 184 entries, 0 to 183\n",
      "Data columns (total 2 columns):\n",
      " #   Column     Non-Null Count  Dtype \n",
      "---  ------     --------------  ----- \n",
      " 0   Person.id  184 non-null    int64 \n",
      " 1   language   184 non-null    object\n",
      "dtypes: int64(1), object(1)\n",
      "memory usage: 3.0+ KB\n"
     ]
    }
   ],
   "source": [
    "PersonLanguage.info()"
   ]
  },
  {
   "cell_type": "code",
   "execution_count": 39,
   "id": "1e9bd694",
   "metadata": {},
   "outputs": [],
   "source": [
    "query = \"\"\"\n",
    "INSERT INTO PersonLanguage (\n",
    "    PersonID,\n",
    "    Language\n",
    ") VALUES (%s, %s)\n",
    "\n",
    "\"\"\"\n",
    "\n",
    "connection = psycopg2.connect(\n",
    "        dbname=\"social_3\",\n",
    "        user=\"postgres\",\n",
    "        password=\"password\",\n",
    "        host=\"localhost\",\n",
    "        port=\"5432\"\n",
    "    )\n",
    "\n",
    "   \n",
    "with connection.cursor() as cursor:\n",
    "    \n",
    "    for index, row in PersonLanguage.iterrows():\n",
    "        # Extract values from the DataFrame\n",
    "        PersonID_value = row['Person.id']\n",
    "        Language_value = row['language']\n",
    "        \n",
    "        # Execute the SQL query\n",
    "        cursor.execute(query, (PersonID_value,\n",
    "                               Language_value))\n",
    "        connection.commit()\n",
    "\n",
    "\n",
    "connection.close()"
   ]
  },
  {
   "cell_type": "markdown",
   "id": "8d6f28d4",
   "metadata": {},
   "source": [
    "## PersonKnowsPerson"
   ]
  },
  {
   "cell_type": "code",
   "execution_count": 40,
   "id": "f9a88cde",
   "metadata": {},
   "outputs": [
    {
     "name": "stdout",
     "output_type": "stream",
     "text": [
      "<class 'pandas.core.frame.DataFrame'>\n",
      "RangeIndex: 224 entries, 0 to 223\n",
      "Data columns (total 3 columns):\n",
      " #   Column        Non-Null Count  Dtype \n",
      "---  ------        --------------  ----- \n",
      " 0   Person.id     224 non-null    int64 \n",
      " 1   Person.id.1   224 non-null    int64 \n",
      " 2   creationDate  224 non-null    object\n",
      "dtypes: int64(2), object(1)\n",
      "memory usage: 5.4+ KB\n"
     ]
    }
   ],
   "source": [
    "PersonKnowsPerson.info()"
   ]
  },
  {
   "cell_type": "code",
   "execution_count": 41,
   "id": "cb28f5ab",
   "metadata": {},
   "outputs": [],
   "source": [
    "PersonKnowsPerson['creationDate'] = pd.to_datetime(PersonKnowsPerson['creationDate'], errors='coerce')"
   ]
  },
  {
   "cell_type": "code",
   "execution_count": 42,
   "id": "690a7bb2",
   "metadata": {},
   "outputs": [],
   "source": [
    "#inser into personknowsperson\n",
    "query = \"\"\"INSERT INTO PersonKnowsPerson (\n",
    "    PersonID_A, \n",
    "    PersonID_B,\n",
    "    CreationDate) \n",
    "    VALUES (%s, %s, %s)\"\"\"\n",
    "\n",
    "\n",
    "# Iterate over rows in the DataFrame and insert data into the table\n",
    "\n",
    "connection = psycopg2.connect(\n",
    "        dbname=\"social_3\",\n",
    "        user=\"postgres\",\n",
    "        password=\"password\",\n",
    "        host=\"localhost\",\n",
    "        port=\"5432\"\n",
    "    )\n",
    "\n",
    "   \n",
    "with connection.cursor() as cursor:\n",
    "    \n",
    "    for index, row in PersonKnowsPerson.iterrows():\n",
    "        # Extract values from the DataFrame\n",
    "        PersonID_A_value = row['Person.id']\n",
    "        PersonID_B_value = row['Person.id.1']\n",
    "        CreationDate_value = row['creationDate']\n",
    "\n",
    "        \n",
    "        \n",
    "        cursor.execute(query, (PersonID_A_value,\n",
    "                               PersonID_B_value,\n",
    "                              CreationDate_value))\n",
    "        connection.commit()\n",
    "\n",
    "# Close the database connection\n",
    "connection.close()"
   ]
  },
  {
   "cell_type": "markdown",
   "id": "6b26b06b",
   "metadata": {},
   "source": [
    "## University/Company"
   ]
  },
  {
   "cell_type": "code",
   "execution_count": 38,
   "id": "acc51bcc",
   "metadata": {},
   "outputs": [
    {
     "data": {
      "text/html": [
       "<div>\n",
       "<style scoped>\n",
       "    .dataframe tbody tr th:only-of-type {\n",
       "        vertical-align: middle;\n",
       "    }\n",
       "\n",
       "    .dataframe tbody tr th {\n",
       "        vertical-align: top;\n",
       "    }\n",
       "\n",
       "    .dataframe thead th {\n",
       "        text-align: right;\n",
       "    }\n",
       "</style>\n",
       "<table border=\"1\" class=\"dataframe\">\n",
       "  <thead>\n",
       "    <tr style=\"text-align: right;\">\n",
       "      <th></th>\n",
       "      <th>id</th>\n",
       "      <th>type</th>\n",
       "      <th>name</th>\n",
       "      <th>url</th>\n",
       "      <th>place</th>\n",
       "    </tr>\n",
       "  </thead>\n",
       "  <tbody>\n",
       "    <tr>\n",
       "      <th>0</th>\n",
       "      <td>0</td>\n",
       "      <td>company</td>\n",
       "      <td>Kam_Air</td>\n",
       "      <td>http://dbpedia.org/resource/Kam_Air</td>\n",
       "      <td>59</td>\n",
       "    </tr>\n",
       "    <tr>\n",
       "      <th>1</th>\n",
       "      <td>1</td>\n",
       "      <td>company</td>\n",
       "      <td>Balkh_Airlines</td>\n",
       "      <td>http://dbpedia.org/resource/Balkh_Airlines</td>\n",
       "      <td>59</td>\n",
       "    </tr>\n",
       "    <tr>\n",
       "      <th>2</th>\n",
       "      <td>2</td>\n",
       "      <td>company</td>\n",
       "      <td>Khyber_Afghan_Airlines</td>\n",
       "      <td>http://dbpedia.org/resource/Khyber_Afghan_Airl...</td>\n",
       "      <td>59</td>\n",
       "    </tr>\n",
       "    <tr>\n",
       "      <th>3</th>\n",
       "      <td>3</td>\n",
       "      <td>company</td>\n",
       "      <td>MarcoPolo_Airways</td>\n",
       "      <td>http://dbpedia.org/resource/MarcoPolo_Airways</td>\n",
       "      <td>59</td>\n",
       "    </tr>\n",
       "    <tr>\n",
       "      <th>4</th>\n",
       "      <td>4</td>\n",
       "      <td>company</td>\n",
       "      <td>Pamir_Airways</td>\n",
       "      <td>http://dbpedia.org/resource/Pamir_Airways</td>\n",
       "      <td>59</td>\n",
       "    </tr>\n",
       "  </tbody>\n",
       "</table>\n",
       "</div>"
      ],
      "text/plain": [
       "   id     type                    name  \\\n",
       "0   0  company                 Kam_Air   \n",
       "1   1  company          Balkh_Airlines   \n",
       "2   2  company  Khyber_Afghan_Airlines   \n",
       "3   3  company       MarcoPolo_Airways   \n",
       "4   4  company           Pamir_Airways   \n",
       "\n",
       "                                                 url  place  \n",
       "0                http://dbpedia.org/resource/Kam_Air     59  \n",
       "1         http://dbpedia.org/resource/Balkh_Airlines     59  \n",
       "2  http://dbpedia.org/resource/Khyber_Afghan_Airl...     59  \n",
       "3      http://dbpedia.org/resource/MarcoPolo_Airways     59  \n",
       "4          http://dbpedia.org/resource/Pamir_Airways     59  "
      ]
     },
     "execution_count": 38,
     "metadata": {},
     "output_type": "execute_result"
    }
   ],
   "source": [
    "Organizations.head()"
   ]
  },
  {
   "cell_type": "code",
   "execution_count": null,
   "id": "4154e026",
   "metadata": {},
   "outputs": [],
   "source": [
    "\"\"\"\n",
    "UniversityID INT PRIMARY KEY,\n",
    "    Name VARCHAR(255) NOT NULL,\n",
    "\tURL VARCHAR(255),\n",
    "\tPlace INT,\n",
    "\tFOREIGN KEY (Place) REFERENCES Place(PlaceID)\n",
    ");\n",
    "\n",
    "\"\"\""
   ]
  },
  {
   "cell_type": "code",
   "execution_count": 43,
   "id": "d6cfa80a",
   "metadata": {},
   "outputs": [],
   "source": [
    "company_filter = Organizations['type'] == 'company'\n",
    "university_filter = Organizations['type'] == 'university'\n",
    "\n",
    "company = Organizations.loc[company_filter]\n",
    "university = Organizations.loc[university_filter]"
   ]
  },
  {
   "cell_type": "code",
   "execution_count": 46,
   "id": "0dbae2cb",
   "metadata": {},
   "outputs": [],
   "source": [
    "#insert company data\n",
    "\n",
    "query = \"\"\"INSERT INTO Company (\n",
    "    CompanyID, \n",
    "    Name,\n",
    "    URL, \n",
    "    Place) \n",
    "    VALUES (%s, %s, %s, %s)\"\"\"\n",
    "\n",
    "\n",
    "\n",
    "connection = psycopg2.connect(\n",
    "        dbname=\"social_3\",\n",
    "        user=\"postgres\",\n",
    "        password=\"password\",\n",
    "        host=\"localhost\",\n",
    "        port=\"5432\"\n",
    "    )\n",
    "\n",
    "   \n",
    "with connection.cursor() as cursor:\n",
    "    \n",
    "    for index, row in company.iterrows():\n",
    "        # Extract values from the DataFrame\n",
    "        CompanyID_value = row['id']\n",
    "        Name_value = row['name']\n",
    "        URL_value = row['url']\n",
    "        Place_value = row['place']\n",
    "        \n",
    "        # Execute the SQL query\n",
    "        cursor.execute(query, (CompanyID_value,\n",
    "                               Name_value,\n",
    "                              URL_value,\n",
    "                              Place_value))\n",
    "        connection.commit()\n",
    "\n",
    "# Close the database connection\n",
    "connection.close()"
   ]
  },
  {
   "cell_type": "code",
   "execution_count": 48,
   "id": "eb7f71a3",
   "metadata": {},
   "outputs": [],
   "source": [
    "#insert University data\n",
    "\n",
    "query = \"\"\"INSERT INTO University (\n",
    "    UniversityID, \n",
    "    Name,\n",
    "    URL, \n",
    "    Place) \n",
    "    VALUES (%s, %s, %s, %s)\"\"\"\n",
    "\n",
    "\n",
    "\n",
    "connection = psycopg2.connect(\n",
    "        dbname=\"social_3\",\n",
    "        user=\"postgres\",\n",
    "        password=\"password\",\n",
    "        host=\"localhost\",\n",
    "        port=\"5432\"\n",
    "    )\n",
    "\n",
    "   \n",
    "with connection.cursor() as cursor:\n",
    "    \n",
    "    for index, row in university.iterrows():\n",
    "        # Extract values from the DataFrame\n",
    "        UniversityID_value = row['id']\n",
    "        Name_value = row['name']\n",
    "        URL_value = row['url']\n",
    "        Place_value = row['place']\n",
    "        \n",
    "        # Execute the SQL query\n",
    "        cursor.execute(query, (UniversityID_value,\n",
    "                               Name_value,\n",
    "                              URL_value,\n",
    "                              Place_value))\n",
    "        connection.commit()\n",
    "\n",
    "# Close the database connection\n",
    "connection.close()"
   ]
  },
  {
   "cell_type": "markdown",
   "id": "79800c28",
   "metadata": {},
   "source": [
    "# PersonStudyAtUniversity"
   ]
  },
  {
   "cell_type": "code",
   "execution_count": 53,
   "id": "aac057e0",
   "metadata": {},
   "outputs": [
    {
     "data": {
      "text/html": [
       "<div>\n",
       "<style scoped>\n",
       "    .dataframe tbody tr th:only-of-type {\n",
       "        vertical-align: middle;\n",
       "    }\n",
       "\n",
       "    .dataframe tbody tr th {\n",
       "        vertical-align: top;\n",
       "    }\n",
       "\n",
       "    .dataframe thead th {\n",
       "        text-align: right;\n",
       "    }\n",
       "</style>\n",
       "<table border=\"1\" class=\"dataframe\">\n",
       "  <thead>\n",
       "    <tr style=\"text-align: right;\">\n",
       "      <th></th>\n",
       "      <th>Person.id</th>\n",
       "      <th>Organisation.id</th>\n",
       "      <th>classYear</th>\n",
       "    </tr>\n",
       "  </thead>\n",
       "  <tbody>\n",
       "    <tr>\n",
       "      <th>0</th>\n",
       "      <td>2199023255625</td>\n",
       "      <td>2207</td>\n",
       "      <td>2002</td>\n",
       "    </tr>\n",
       "    <tr>\n",
       "      <th>1</th>\n",
       "      <td>16492674416673</td>\n",
       "      <td>1596</td>\n",
       "      <td>2002</td>\n",
       "    </tr>\n",
       "    <tr>\n",
       "      <th>2</th>\n",
       "      <td>2199023255611</td>\n",
       "      <td>2207</td>\n",
       "      <td>2001</td>\n",
       "    </tr>\n",
       "    <tr>\n",
       "      <th>3</th>\n",
       "      <td>13194139533352</td>\n",
       "      <td>1856</td>\n",
       "      <td>2007</td>\n",
       "    </tr>\n",
       "    <tr>\n",
       "      <th>4</th>\n",
       "      <td>3298534883391</td>\n",
       "      <td>2833</td>\n",
       "      <td>2005</td>\n",
       "    </tr>\n",
       "  </tbody>\n",
       "</table>\n",
       "</div>"
      ],
      "text/plain": [
       "        Person.id  Organisation.id  classYear\n",
       "0   2199023255625             2207       2002\n",
       "1  16492674416673             1596       2002\n",
       "2   2199023255611             2207       2001\n",
       "3  13194139533352             1856       2007\n",
       "4   3298534883391             2833       2005"
      ]
     },
     "execution_count": 53,
     "metadata": {},
     "output_type": "execute_result"
    }
   ],
   "source": [
    "PersonStudyAtUniversity.head()"
   ]
  },
  {
   "cell_type": "code",
   "execution_count": 54,
   "id": "95544e0c",
   "metadata": {
    "scrolled": true
   },
   "outputs": [
    {
     "name": "stdout",
     "output_type": "stream",
     "text": [
      "<class 'pandas.core.frame.DataFrame'>\n",
      "RangeIndex: 71 entries, 0 to 70\n",
      "Data columns (total 3 columns):\n",
      " #   Column           Non-Null Count  Dtype\n",
      "---  ------           --------------  -----\n",
      " 0   Person.id        71 non-null     int64\n",
      " 1   Organisation.id  71 non-null     int64\n",
      " 2   classYear        71 non-null     int64\n",
      "dtypes: int64(3)\n",
      "memory usage: 1.8 KB\n"
     ]
    }
   ],
   "source": [
    "PersonStudyAtUniversity.info()"
   ]
  },
  {
   "cell_type": "code",
   "execution_count": 49,
   "id": "209d81a9",
   "metadata": {},
   "outputs": [],
   "source": [
    "#insert personstudyatuniversity\n",
    "\n",
    "register_adapter(np.int64, AsIs)\n",
    "\n",
    "query = \"\"\"INSERT INTO PersonStudyAtUniversity (\n",
    "    PersonID, \n",
    "    UniversityID,\n",
    "    ClassYear) \n",
    "    VALUES (%s, %s, %s)\"\"\"\n",
    "\n",
    "\n",
    "\n",
    "# Iterate over rows in the DataFrame and insert data into the table\n",
    "\n",
    "connection = psycopg2.connect(\n",
    "        dbname=\"social_3\",\n",
    "        user=\"postgres\",\n",
    "        password=\"password\",\n",
    "        host=\"localhost\",\n",
    "        port=\"5432\"\n",
    "    )\n",
    "\n",
    "   \n",
    "with connection.cursor() as cursor:\n",
    "    \n",
    "    for index, row in PersonStudyAtUniversity.iterrows():\n",
    "        # Extract values from the DataFrame\n",
    "        PersonID_value = row['Person.id']\n",
    "        UniversityID_value = row['Organisation.id']\n",
    "        ClassYear_value = row['classYear']\n",
    "        \n",
    "        \n",
    "        \n",
    "        # Execute the SQL query\n",
    "        cursor.execute(query, (PersonID_value,\n",
    "                               UniversityID_value,\n",
    "                              ClassYear_value))\n",
    "        connection.commit()\n",
    "\n",
    "# Close the database connection\n",
    "connection.close()"
   ]
  },
  {
   "cell_type": "markdown",
   "id": "da4b168a",
   "metadata": {},
   "source": [
    "## PersonWorkAtCompany"
   ]
  },
  {
   "cell_type": "code",
   "execution_count": 7,
   "id": "40c7e21f",
   "metadata": {},
   "outputs": [
    {
     "data": {
      "text/html": [
       "<div>\n",
       "<style scoped>\n",
       "    .dataframe tbody tr th:only-of-type {\n",
       "        vertical-align: middle;\n",
       "    }\n",
       "\n",
       "    .dataframe tbody tr th {\n",
       "        vertical-align: top;\n",
       "    }\n",
       "\n",
       "    .dataframe thead th {\n",
       "        text-align: right;\n",
       "    }\n",
       "</style>\n",
       "<table border=\"1\" class=\"dataframe\">\n",
       "  <thead>\n",
       "    <tr style=\"text-align: right;\">\n",
       "      <th></th>\n",
       "      <th>Person.id</th>\n",
       "      <th>Organisation.id</th>\n",
       "      <th>workFrom</th>\n",
       "    </tr>\n",
       "  </thead>\n",
       "  <tbody>\n",
       "    <tr>\n",
       "      <th>0</th>\n",
       "      <td>12094627905604</td>\n",
       "      <td>897</td>\n",
       "      <td>2009</td>\n",
       "    </tr>\n",
       "    <tr>\n",
       "      <th>1</th>\n",
       "      <td>12094627905604</td>\n",
       "      <td>887</td>\n",
       "      <td>2008</td>\n",
       "    </tr>\n",
       "    <tr>\n",
       "      <th>2</th>\n",
       "      <td>12094627905604</td>\n",
       "      <td>888</td>\n",
       "      <td>2012</td>\n",
       "    </tr>\n",
       "    <tr>\n",
       "      <th>3</th>\n",
       "      <td>12094627905604</td>\n",
       "      <td>890</td>\n",
       "      <td>2011</td>\n",
       "    </tr>\n",
       "    <tr>\n",
       "      <th>4</th>\n",
       "      <td>12094627905604</td>\n",
       "      <td>893</td>\n",
       "      <td>2009</td>\n",
       "    </tr>\n",
       "  </tbody>\n",
       "</table>\n",
       "</div>"
      ],
      "text/plain": [
       "        Person.id  Organisation.id  workFrom\n",
       "0  12094627905604              897      2009\n",
       "1  12094627905604              887      2008\n",
       "2  12094627905604              888      2012\n",
       "3  12094627905604              890      2011\n",
       "4  12094627905604              893      2009"
      ]
     },
     "execution_count": 7,
     "metadata": {},
     "output_type": "execute_result"
    }
   ],
   "source": [
    "PersonWorkAtCompany.head()"
   ]
  },
  {
   "cell_type": "code",
   "execution_count": 50,
   "id": "f6a6c74c",
   "metadata": {},
   "outputs": [],
   "source": [
    "query = \"\"\"INSERT INTO PersonWorkAtCompany (\n",
    "    PersonID, \n",
    "    CompanyID,\n",
    "    WorkFrom) \n",
    "    VALUES (%s, %s, %s)\"\"\"\n",
    "\n",
    "\n",
    "\n",
    "# Iterate over rows in the DataFrame and insert data into the table\n",
    "\n",
    "connection = psycopg2.connect(\n",
    "        dbname=\"social_3\",\n",
    "        user=\"postgres\",\n",
    "        password=\"password\",\n",
    "        host=\"localhost\",\n",
    "        port=\"5432\"\n",
    "    )\n",
    "\n",
    "   \n",
    "with connection.cursor() as cursor:\n",
    "    \n",
    "    for index, row in PersonWorkAtCompany.iterrows():\n",
    "        # Extract values from the DataFrame\n",
    "        PersonID_value = row['Person.id']\n",
    "        CompanyID_value = row['Organisation.id']\n",
    "        WorkFrom_value = row['workFrom']\n",
    "        \n",
    "        \n",
    "        \n",
    "        # Execute the SQL query\n",
    "        cursor.execute(query, (PersonID_value,\n",
    "                               CompanyID_value,\n",
    "                              WorkFrom_value))\n",
    "        connection.commit()\n",
    "\n",
    "# Close the database connection\n",
    "connection.close()"
   ]
  },
  {
   "cell_type": "markdown",
   "id": "7db6ced1",
   "metadata": {},
   "source": [
    "## Forum"
   ]
  },
  {
   "cell_type": "code",
   "execution_count": 51,
   "id": "8cca2c57",
   "metadata": {},
   "outputs": [
    {
     "name": "stdout",
     "output_type": "stream",
     "text": [
      "<class 'pandas.core.frame.DataFrame'>\n",
      "RangeIndex: 799 entries, 0 to 798\n",
      "Data columns (total 4 columns):\n",
      " #   Column        Non-Null Count  Dtype \n",
      "---  ------        --------------  ----- \n",
      " 0   id            799 non-null    int64 \n",
      " 1   title         799 non-null    object\n",
      " 2   creationDate  799 non-null    object\n",
      " 3   moderator     799 non-null    int64 \n",
      "dtypes: int64(2), object(2)\n",
      "memory usage: 25.1+ KB\n"
     ]
    }
   ],
   "source": [
    "\n",
    "Forum.info()"
   ]
  },
  {
   "cell_type": "code",
   "execution_count": 52,
   "id": "979e99cd",
   "metadata": {
    "scrolled": true
   },
   "outputs": [],
   "source": [
    "Forum['creationDate'] = pd.to_datetime(Forum['creationDate'], errors='coerce')"
   ]
  },
  {
   "cell_type": "code",
   "execution_count": 53,
   "id": "e6b6e693",
   "metadata": {},
   "outputs": [],
   "source": [
    "query = \"\"\"INSERT INTO Forum (\n",
    "    ForumID, \n",
    "    Title,\n",
    "    CreateDate,\n",
    "    Moderator) \n",
    "    VALUES (%s, %s, %s, %s)\"\"\"\n",
    "\n",
    "\n",
    "# Iterate over rows in the DataFrame and insert data into the table\n",
    "\n",
    "connection = psycopg2.connect(\n",
    "        dbname=\"social_3\",\n",
    "        user=\"postgres\",\n",
    "        password=\"password\",\n",
    "        host=\"localhost\",\n",
    "        port=\"5432\"\n",
    "    )\n",
    "\n",
    "   \n",
    "with connection.cursor() as cursor:\n",
    "    \n",
    "    for index, row in Forum.iterrows():\n",
    "        # Extract values from the DataFrame\n",
    "        ForumID_value = row['id']\n",
    "        Title_value = row['title']\n",
    "        CreationDate_value = row['creationDate']\n",
    "        Moderator_value = row['moderator']\n",
    "        \n",
    "        \n",
    "        cursor.execute(query, (ForumID_value,\n",
    "                               Title_value,\n",
    "                              CreationDate_value,\n",
    "                              Moderator_value))\n",
    "        connection.commit()\n",
    "\n",
    "# Close the database connection\n",
    "connection.close()"
   ]
  },
  {
   "cell_type": "markdown",
   "id": "d2441b0b",
   "metadata": {},
   "source": [
    "## Forum Has Member "
   ]
  },
  {
   "cell_type": "code",
   "execution_count": 54,
   "id": "8a20077a",
   "metadata": {},
   "outputs": [
    {
     "data": {
      "text/html": [
       "<div>\n",
       "<style scoped>\n",
       "    .dataframe tbody tr th:only-of-type {\n",
       "        vertical-align: middle;\n",
       "    }\n",
       "\n",
       "    .dataframe tbody tr th {\n",
       "        vertical-align: top;\n",
       "    }\n",
       "\n",
       "    .dataframe thead th {\n",
       "        text-align: right;\n",
       "    }\n",
       "</style>\n",
       "<table border=\"1\" class=\"dataframe\">\n",
       "  <thead>\n",
       "    <tr style=\"text-align: right;\">\n",
       "      <th></th>\n",
       "      <th>Forum.id</th>\n",
       "      <th>Person.id</th>\n",
       "      <th>joinDate</th>\n",
       "    </tr>\n",
       "  </thead>\n",
       "  <tbody>\n",
       "    <tr>\n",
       "      <th>0</th>\n",
       "      <td>17179869197</td>\n",
       "      <td>9895604649984</td>\n",
       "      <td>2011-09-15T05:28:33.616+0000</td>\n",
       "    </tr>\n",
       "    <tr>\n",
       "      <th>1</th>\n",
       "      <td>17179869197</td>\n",
       "      <td>8796093022217</td>\n",
       "      <td>2011-07-26T04:00:02.456+0000</td>\n",
       "    </tr>\n",
       "    <tr>\n",
       "      <th>2</th>\n",
       "      <td>17179869197</td>\n",
       "      <td>15393162788888</td>\n",
       "      <td>2012-07-11T04:36:42.044+0000</td>\n",
       "    </tr>\n",
       "    <tr>\n",
       "      <th>3</th>\n",
       "      <td>17179869197</td>\n",
       "      <td>9895604650020</td>\n",
       "      <td>2011-10-18T05:30:38.405+0000</td>\n",
       "    </tr>\n",
       "    <tr>\n",
       "      <th>4</th>\n",
       "      <td>17179869197</td>\n",
       "      <td>16492674416689</td>\n",
       "      <td>2012-09-11T04:07:25.731+0000</td>\n",
       "    </tr>\n",
       "  </tbody>\n",
       "</table>\n",
       "</div>"
      ],
      "text/plain": [
       "      Forum.id       Person.id                      joinDate\n",
       "0  17179869197   9895604649984  2011-09-15T05:28:33.616+0000\n",
       "1  17179869197   8796093022217  2011-07-26T04:00:02.456+0000\n",
       "2  17179869197  15393162788888  2012-07-11T04:36:42.044+0000\n",
       "3  17179869197   9895604650020  2011-10-18T05:30:38.405+0000\n",
       "4  17179869197  16492674416689  2012-09-11T04:07:25.731+0000"
      ]
     },
     "execution_count": 54,
     "metadata": {},
     "output_type": "execute_result"
    }
   ],
   "source": [
    "ForumHasMember.head()"
   ]
  },
  {
   "cell_type": "code",
   "execution_count": 55,
   "id": "c0a0890b",
   "metadata": {
    "scrolled": true
   },
   "outputs": [
    {
     "name": "stdout",
     "output_type": "stream",
     "text": [
      "<class 'pandas.core.frame.DataFrame'>\n",
      "RangeIndex: 1782 entries, 0 to 1781\n",
      "Data columns (total 3 columns):\n",
      " #   Column     Non-Null Count  Dtype \n",
      "---  ------     --------------  ----- \n",
      " 0   Forum.id   1782 non-null   int64 \n",
      " 1   Person.id  1782 non-null   int64 \n",
      " 2   joinDate   1782 non-null   object\n",
      "dtypes: int64(2), object(1)\n",
      "memory usage: 41.9+ KB\n"
     ]
    }
   ],
   "source": [
    "ForumHasMember.info()"
   ]
  },
  {
   "cell_type": "code",
   "execution_count": 56,
   "id": "97ddf0f3",
   "metadata": {},
   "outputs": [],
   "source": [
    "ForumHasMember['joinDate'] = pd.to_datetime(ForumHasMember['joinDate'], errors='coerce')"
   ]
  },
  {
   "cell_type": "code",
   "execution_count": 60,
   "id": "8e797d8a",
   "metadata": {},
   "outputs": [],
   "source": [
    "from psycopg2 import Error\n",
    "\n",
    "query = \"\"\"INSERT INTO ForumHasMember (\n",
    "    ForumID, \n",
    "    PersonID,\n",
    "    JoinDate) \n",
    "    VALUES (%s, %s, %s)\"\"\"\n",
    "\n",
    "# Connection parameters\n",
    "connection_params = {\n",
    "    \"dbname\": \"social_3\",\n",
    "    \"user\": \"postgres\",\n",
    "    \"password\": \"password\",\n",
    "    \"host\": \"localhost\",\n",
    "    \"port\": \"5432\"\n",
    "}\n",
    "\n",
    "try:\n",
    "    # Connect to the database\n",
    "    connection = psycopg2.connect(**connection_params)\n",
    "    \n",
    "    # Create cursor\n",
    "    with connection.cursor() as cursor:\n",
    "        # Iterate over rows in the DataFrame and insert data into the table\n",
    "        for index, row in ForumHasMember.iterrows():\n",
    "            # Extract values from the DataFrame\n",
    "            ForumID_value = row['Person.id']\n",
    "            PersonID_value = row['Forum.id']\n",
    "            JoinDate_value = row['joinDate']\n",
    "\n",
    "            try:\n",
    "                # Execute the insert query\n",
    "                cursor.execute(query, (ForumID_value, PersonID_value, JoinDate_value))\n",
    "                # Commit the transaction\n",
    "                connection.commit()\n",
    "            except psycopg2.errors.ForeignKeyViolation as e:\n",
    "                # Skip conflicting data and print the error message\n",
    "                print(f\"Skipping conflicting data. Error: {e}\")\n",
    "            except Error as e:\n",
    "                # Handle other database errors\n",
    "                print(f\"Error executing query: {e}\")\n",
    "                connection.rollback()  # Rollback the transaction\n",
    "            \n",
    "except psycopg2.Error as error:\n",
    "    # Handle connection errors\n",
    "    print(\"Error connecting to PostgreSQL:\", error)\n",
    "finally:\n",
    "    # Close the database connection\n",
    "    if connection:\n",
    "        connection.close()\n"
   ]
  },
  {
   "cell_type": "markdown",
   "id": "29c4ab51",
   "metadata": {},
   "source": [
    "## Post"
   ]
  },
  {
   "cell_type": "code",
   "execution_count": 61,
   "id": "51c5a34a",
   "metadata": {},
   "outputs": [
    {
     "name": "stdout",
     "output_type": "stream",
     "text": [
      "<class 'pandas.core.frame.DataFrame'>\n",
      "RangeIndex: 7213 entries, 0 to 7212\n",
      "Data columns (total 11 columns):\n",
      " #   Column        Non-Null Count  Dtype \n",
      "---  ------        --------------  ----- \n",
      " 0   id            7213 non-null   int64 \n",
      " 1   imageFile     7001 non-null   object\n",
      " 2   creationDate  7213 non-null   object\n",
      " 3   locationIP    7213 non-null   object\n",
      " 4   browserUsed   7213 non-null   object\n",
      " 5   language      212 non-null    object\n",
      " 6   content       212 non-null    object\n",
      " 7   length        7213 non-null   int64 \n",
      " 8   creator       7213 non-null   int64 \n",
      " 9   Forum.id      7213 non-null   int64 \n",
      " 10  place         7213 non-null   int64 \n",
      "dtypes: int64(5), object(6)\n",
      "memory usage: 620.0+ KB\n"
     ]
    }
   ],
   "source": [
    "Post.info()"
   ]
  },
  {
   "cell_type": "code",
   "execution_count": 63,
   "id": "aaafc77a",
   "metadata": {},
   "outputs": [],
   "source": [
    "Post['creationDate'] = pd.to_datetime(Post['creationDate'], errors='coerce')"
   ]
  },
  {
   "cell_type": "code",
   "execution_count": 64,
   "id": "2249c287",
   "metadata": {},
   "outputs": [],
   "source": [
    "query = \"\"\"INSERT INTO Post (\n",
    "    PostID,\n",
    "    ImageFile,\n",
    "    CreationDate,\n",
    "    LocationIP,\n",
    "    BrowserUsed,\n",
    "    Language,\n",
    "    Content,\n",
    "    Length,\n",
    "    Creator,\n",
    "    ForumID,\n",
    "    Place) \n",
    "    VALUES (%s, %s, %s, %s, %s, %s, %s, %s, %s, %s, %s)\"\"\"\n",
    "\n",
    "\n",
    "\n",
    "connection = psycopg2.connect(\n",
    "        dbname=\"social_3\",\n",
    "        user=\"postgres\",\n",
    "        password=\"password\",\n",
    "        host=\"localhost\",\n",
    "        port=\"5432\"\n",
    "    )\n",
    "\n",
    "   \n",
    "with connection.cursor() as cursor:\n",
    "    \n",
    "    for index, row in Post.iterrows():\n",
    "        PostID_value = row['id']\n",
    "        ImageFile_value = row['imageFile']\n",
    "        CreationDate_value = row['creationDate']\n",
    "        LocationIP_value = row['locationIP']\n",
    "        BrowserUsed_value = row['browserUsed']\n",
    "        Language_value = row['language']\n",
    "        Content_value = row['content']\n",
    "        Length_value = row['length']\n",
    "        Creator_value = row['creator']\n",
    "        ForumID_value = row['Forum.id']\n",
    "        Place_value = row['place']\n",
    "        \n",
    "        \n",
    "         \n",
    "        \n",
    "        cursor.execute(query, (PostID_value,\n",
    "                               ImageFile_value,\n",
    "                               CreationDate_value,\n",
    "                               LocationIP_value,\n",
    "                               BrowserUsed_value,\n",
    "                               Language_value,\n",
    "                               Content_value,\n",
    "                               Length_value,\n",
    "                               Creator_value,\n",
    "                               ForumID_value,\n",
    "                               Place_value))\n",
    "        connection.commit()\n",
    "\n",
    "# Close the database connection\n",
    "connection.close()"
   ]
  },
  {
   "cell_type": "markdown",
   "id": "3efc3b25",
   "metadata": {},
   "source": [
    "## Comment"
   ]
  },
  {
   "cell_type": "code",
   "execution_count": 66,
   "id": "4ed601fa",
   "metadata": {
    "scrolled": false
   },
   "outputs": [
    {
     "name": "stdout",
     "output_type": "stream",
     "text": [
      "<class 'pandas.core.frame.DataFrame'>\n",
      "RangeIndex: 1987 entries, 0 to 1986\n",
      "Data columns (total 10 columns):\n",
      " #   Column           Non-Null Count  Dtype  \n",
      "---  ------           --------------  -----  \n",
      " 0   id               1987 non-null   int64  \n",
      " 1   creationDate     1987 non-null   object \n",
      " 2   locationIP       1987 non-null   object \n",
      " 3   browserUsed      1987 non-null   object \n",
      " 4   content          1987 non-null   object \n",
      " 5   length           1987 non-null   int64  \n",
      " 6   creator          1987 non-null   int64  \n",
      " 7   place            1987 non-null   int64  \n",
      " 8   replyOfPost      1034 non-null   float64\n",
      " 9   replyOfComment;  1982 non-null   object \n",
      "dtypes: float64(1), int64(4), object(5)\n",
      "memory usage: 155.4+ KB\n"
     ]
    }
   ],
   "source": [
    "Comment.info()"
   ]
  },
  {
   "cell_type": "code",
   "execution_count": 81,
   "id": "4705dbd9",
   "metadata": {},
   "outputs": [],
   "source": [
    "Comment['creationDate'] = pd.to_datetime(Comment['creationDate'], errors='coerce')"
   ]
  },
  {
   "cell_type": "code",
   "execution_count": 84,
   "id": "34ae501e",
   "metadata": {},
   "outputs": [],
   "source": [
    "query = \"\"\"INSERT INTO Comment (\n",
    "    CommentID,\n",
    "    CreationDate,\n",
    "    LocationIP,\n",
    "    BrowserUsed,\n",
    "    Content,\n",
    "    Length,\n",
    "    Creator,\n",
    "    Place) \n",
    "    VALUES (%s, %s, %s, %s, %s, %s, %s, %s)\"\"\"\n",
    "\n",
    "\n",
    "connection = psycopg2.connect(\n",
    "        dbname=\"social_3\",\n",
    "        user=\"postgres\",\n",
    "        password=\"password\",\n",
    "        host=\"localhost\",\n",
    "        port=\"5432\"\n",
    "    )\n",
    "\n",
    "   \n",
    "with connection.cursor() as cursor:\n",
    "    \n",
    "    for index, row in Comment.iterrows():\n",
    "        CommentID_value = row['id']\n",
    "        CreationDate_value = row['creationDate']\n",
    "        LocationIP_value = row['locationIP']\n",
    "        BrowserUsed_value = row['browserUsed']\n",
    "        Content_value = row['content']\n",
    "        Length_value = row['length']\n",
    "        Creator_value = row['creator']\n",
    "        Place_value = row['place']\n",
    "        \n",
    "        \n",
    "        \n",
    "        \n",
    "        cursor.execute(query, (CommentID_value,\n",
    "                               CreationDate_value,\n",
    "                               LocationIP_value,\n",
    "                               BrowserUsed_value,\n",
    "                               Content_value,\n",
    "                               Length_value,\n",
    "                               Creator_value,\n",
    "                               Place_value))\n",
    "        connection.commit()\n",
    "\n",
    "# Close the database connection\n",
    "connection.close()"
   ]
  },
  {
   "cell_type": "markdown",
   "id": "566f2967",
   "metadata": {},
   "source": [
    "# Tag Table"
   ]
  },
  {
   "cell_type": "code",
   "execution_count": 85,
   "id": "59b38af6",
   "metadata": {},
   "outputs": [
    {
     "data": {
      "text/html": [
       "<div>\n",
       "<style scoped>\n",
       "    .dataframe tbody tr th:only-of-type {\n",
       "        vertical-align: middle;\n",
       "    }\n",
       "\n",
       "    .dataframe tbody tr th {\n",
       "        vertical-align: top;\n",
       "    }\n",
       "\n",
       "    .dataframe thead th {\n",
       "        text-align: right;\n",
       "    }\n",
       "</style>\n",
       "<table border=\"1\" class=\"dataframe\">\n",
       "  <thead>\n",
       "    <tr style=\"text-align: right;\">\n",
       "      <th></th>\n",
       "      <th>id</th>\n",
       "      <th>name</th>\n",
       "      <th>url</th>\n",
       "    </tr>\n",
       "  </thead>\n",
       "  <tbody>\n",
       "    <tr>\n",
       "      <th>0</th>\n",
       "      <td>0</td>\n",
       "      <td>Hamid_Karzai</td>\n",
       "      <td>http://dbpedia.org/resource/Hamid_Karzai</td>\n",
       "    </tr>\n",
       "    <tr>\n",
       "      <th>1</th>\n",
       "      <td>1</td>\n",
       "      <td>Rumi</td>\n",
       "      <td>http://dbpedia.org/resource/Rumi</td>\n",
       "    </tr>\n",
       "    <tr>\n",
       "      <th>2</th>\n",
       "      <td>2</td>\n",
       "      <td>Mahmud_of_Ghazni</td>\n",
       "      <td>http://dbpedia.org/resource/Mahmud_of_Ghazni</td>\n",
       "    </tr>\n",
       "    <tr>\n",
       "      <th>3</th>\n",
       "      <td>3</td>\n",
       "      <td>Abbas_I_of_Persia</td>\n",
       "      <td>http://dbpedia.org/resource/Abbas_I_of_Persia</td>\n",
       "    </tr>\n",
       "    <tr>\n",
       "      <th>4</th>\n",
       "      <td>4</td>\n",
       "      <td>Humayun</td>\n",
       "      <td>http://dbpedia.org/resource/Humayun</td>\n",
       "    </tr>\n",
       "  </tbody>\n",
       "</table>\n",
       "</div>"
      ],
      "text/plain": [
       "   id               name                                            url\n",
       "0   0       Hamid_Karzai       http://dbpedia.org/resource/Hamid_Karzai\n",
       "1   1               Rumi               http://dbpedia.org/resource/Rumi\n",
       "2   2   Mahmud_of_Ghazni   http://dbpedia.org/resource/Mahmud_of_Ghazni\n",
       "3   3  Abbas_I_of_Persia  http://dbpedia.org/resource/Abbas_I_of_Persia\n",
       "4   4            Humayun            http://dbpedia.org/resource/Humayun"
      ]
     },
     "execution_count": 85,
     "metadata": {},
     "output_type": "execute_result"
    }
   ],
   "source": [
    "Tag.head()"
   ]
  },
  {
   "cell_type": "code",
   "execution_count": 86,
   "id": "3c179204",
   "metadata": {},
   "outputs": [],
   "source": [
    "Tag['name'] = Tag['name'].astype(str)"
   ]
  },
  {
   "cell_type": "code",
   "execution_count": 87,
   "id": "ae2f4864",
   "metadata": {},
   "outputs": [],
   "source": [
    "\n",
    "query = \"\"\"INSERT INTO Tag (\n",
    "    TagID,\n",
    "    name,\n",
    "    url) \n",
    "    VALUES (%s, %s, %s)\"\"\"\n",
    "\n",
    "\n",
    "# Iterate over rows in the DataFrame and insert data into the table\n",
    "\n",
    "connection = psycopg2.connect(\n",
    "        dbname=\"social_3\",\n",
    "        user=\"postgres\",\n",
    "        password=\"password\",\n",
    "        host=\"localhost\",\n",
    "        port=\"5432\"\n",
    "    )\n",
    "\n",
    "   \n",
    "with connection.cursor() as cursor:\n",
    "    \n",
    "    for index, row in Tag.iterrows():\n",
    "        # Extract values from the DataFrame\n",
    "        tagid_value = row['id']\n",
    "        name_value = row['name']\n",
    "        url_value = row['url']\n",
    "        \n",
    "        \n",
    "         \n",
    "        \n",
    "        cursor.execute(query, (tagid_value, name_value, url_value))\n",
    "        connection.commit()\n",
    "\n",
    "# Close the database connection\n",
    "connection.close()"
   ]
  },
  {
   "cell_type": "markdown",
   "id": "8b0db1a8",
   "metadata": {},
   "source": [
    "## Tag Class Table"
   ]
  },
  {
   "cell_type": "code",
   "execution_count": 88,
   "id": "f0dae145",
   "metadata": {
    "scrolled": true
   },
   "outputs": [
    {
     "data": {
      "text/html": [
       "<div>\n",
       "<style scoped>\n",
       "    .dataframe tbody tr th:only-of-type {\n",
       "        vertical-align: middle;\n",
       "    }\n",
       "\n",
       "    .dataframe tbody tr th {\n",
       "        vertical-align: top;\n",
       "    }\n",
       "\n",
       "    .dataframe thead th {\n",
       "        text-align: right;\n",
       "    }\n",
       "</style>\n",
       "<table border=\"1\" class=\"dataframe\">\n",
       "  <thead>\n",
       "    <tr style=\"text-align: right;\">\n",
       "      <th></th>\n",
       "      <th>id</th>\n",
       "      <th>name</th>\n",
       "      <th>url</th>\n",
       "    </tr>\n",
       "  </thead>\n",
       "  <tbody>\n",
       "    <tr>\n",
       "      <th>0</th>\n",
       "      <td>349</td>\n",
       "      <td>OfficeHolder</td>\n",
       "      <td>http://dbpedia.org/ontology/OfficeHolder</td>\n",
       "    </tr>\n",
       "    <tr>\n",
       "      <th>1</th>\n",
       "      <td>211</td>\n",
       "      <td>Person</td>\n",
       "      <td>http://dbpedia.org/ontology/Person</td>\n",
       "    </tr>\n",
       "    <tr>\n",
       "      <th>2</th>\n",
       "      <td>239</td>\n",
       "      <td>Agent</td>\n",
       "      <td>http://dbpedia.org/ontology/Agent</td>\n",
       "    </tr>\n",
       "    <tr>\n",
       "      <th>3</th>\n",
       "      <td>0</td>\n",
       "      <td>Thing</td>\n",
       "      <td>http://www.w3.org/2002/07/owl#Thing</td>\n",
       "    </tr>\n",
       "    <tr>\n",
       "      <th>4</th>\n",
       "      <td>98</td>\n",
       "      <td>Monarch</td>\n",
       "      <td>http://dbpedia.org/ontology/Monarch</td>\n",
       "    </tr>\n",
       "  </tbody>\n",
       "</table>\n",
       "</div>"
      ],
      "text/plain": [
       "    id          name                                       url\n",
       "0  349  OfficeHolder  http://dbpedia.org/ontology/OfficeHolder\n",
       "1  211        Person        http://dbpedia.org/ontology/Person\n",
       "2  239         Agent         http://dbpedia.org/ontology/Agent\n",
       "3    0         Thing       http://www.w3.org/2002/07/owl#Thing\n",
       "4   98       Monarch       http://dbpedia.org/ontology/Monarch"
      ]
     },
     "execution_count": 88,
     "metadata": {},
     "output_type": "execute_result"
    }
   ],
   "source": [
    "TagClass.head()"
   ]
  },
  {
   "cell_type": "code",
   "execution_count": 89,
   "id": "228e4509",
   "metadata": {},
   "outputs": [
    {
     "name": "stdout",
     "output_type": "stream",
     "text": [
      "<class 'pandas.core.frame.DataFrame'>\n",
      "RangeIndex: 71 entries, 0 to 70\n",
      "Data columns (total 3 columns):\n",
      " #   Column  Non-Null Count  Dtype \n",
      "---  ------  --------------  ----- \n",
      " 0   id      71 non-null     int64 \n",
      " 1   name    71 non-null     object\n",
      " 2   url     71 non-null     object\n",
      "dtypes: int64(1), object(2)\n",
      "memory usage: 1.8+ KB\n"
     ]
    }
   ],
   "source": [
    "TagClass.info()"
   ]
  },
  {
   "cell_type": "code",
   "execution_count": 90,
   "id": "c8eb90a4",
   "metadata": {},
   "outputs": [],
   "source": [
    "\n",
    "query = \"\"\"INSERT INTO TagClass (\n",
    "    TagClassID,\n",
    "    name,\n",
    "    url) \n",
    "    VALUES (%s, %s, %s)\"\"\"\n",
    "\n",
    "\n",
    "# Iterate over rows in the DataFrame and insert data into the table\n",
    "\n",
    "connection = psycopg2.connect(\n",
    "        dbname=\"social_3\",\n",
    "        user=\"postgres\",\n",
    "        password=\"password\",\n",
    "        host=\"localhost\",\n",
    "        port=\"5432\"\n",
    "    )\n",
    "\n",
    "   \n",
    "with connection.cursor() as cursor:\n",
    "    \n",
    "    for index, row in TagClass.iterrows():\n",
    "        # Extract values from the DataFrame\n",
    "        tagclassid_value = row['id']\n",
    "        name_value = row['name']\n",
    "        url_value = row['url']\n",
    "        \n",
    "        \n",
    "         \n",
    "        \n",
    "        cursor.execute(query, (tagclassid_value, name_value, url_value))\n",
    "        connection.commit()\n",
    "\n",
    "# Close the database connection\n",
    "connection.close()"
   ]
  },
  {
   "cell_type": "markdown",
   "id": "de278cde",
   "metadata": {},
   "source": [
    "## Post Has Tag"
   ]
  },
  {
   "cell_type": "code",
   "execution_count": 91,
   "id": "f7cd20e5",
   "metadata": {},
   "outputs": [
    {
     "data": {
      "text/html": [
       "<div>\n",
       "<style scoped>\n",
       "    .dataframe tbody tr th:only-of-type {\n",
       "        vertical-align: middle;\n",
       "    }\n",
       "\n",
       "    .dataframe tbody tr th {\n",
       "        vertical-align: top;\n",
       "    }\n",
       "\n",
       "    .dataframe thead th {\n",
       "        text-align: right;\n",
       "    }\n",
       "</style>\n",
       "<table border=\"1\" class=\"dataframe\">\n",
       "  <thead>\n",
       "    <tr style=\"text-align: right;\">\n",
       "      <th></th>\n",
       "      <th>Post.id</th>\n",
       "      <th>Tag.id</th>\n",
       "    </tr>\n",
       "  </thead>\n",
       "  <tbody>\n",
       "    <tr>\n",
       "      <th>0</th>\n",
       "      <td>68719476859</td>\n",
       "      <td>6</td>\n",
       "    </tr>\n",
       "    <tr>\n",
       "      <th>1</th>\n",
       "      <td>68719476859</td>\n",
       "      <td>1199</td>\n",
       "    </tr>\n",
       "    <tr>\n",
       "      <th>2</th>\n",
       "      <td>128849019004</td>\n",
       "      <td>6</td>\n",
       "    </tr>\n",
       "    <tr>\n",
       "      <th>3</th>\n",
       "      <td>68719476861</td>\n",
       "      <td>6</td>\n",
       "    </tr>\n",
       "    <tr>\n",
       "      <th>4</th>\n",
       "      <td>111669149822</td>\n",
       "      <td>6</td>\n",
       "    </tr>\n",
       "  </tbody>\n",
       "</table>\n",
       "</div>"
      ],
      "text/plain": [
       "        Post.id  Tag.id\n",
       "0   68719476859       6\n",
       "1   68719476859    1199\n",
       "2  128849019004       6\n",
       "3   68719476861       6\n",
       "4  111669149822       6"
      ]
     },
     "execution_count": 91,
     "metadata": {},
     "output_type": "execute_result"
    }
   ],
   "source": [
    "PostHasTag.head()"
   ]
  },
  {
   "cell_type": "code",
   "execution_count": 93,
   "id": "603b883b",
   "metadata": {},
   "outputs": [],
   "source": [
    "query = \"\"\"INSERT INTO PostHasTag (\n",
    "    PostID,\n",
    "    TagID) \n",
    "    VALUES (%s, %s)\"\"\"\n",
    "\n",
    "\n",
    "# Iterate over rows in the DataFrame and insert data into the table\n",
    "\n",
    "connection = psycopg2.connect(\n",
    "        dbname=\"social_3\",\n",
    "        user=\"postgres\",\n",
    "        password=\"password\",\n",
    "        host=\"localhost\",\n",
    "        port=\"5432\"\n",
    "    )\n",
    "\n",
    "   \n",
    "with connection.cursor() as cursor:\n",
    "    \n",
    "    for index, row in PostHasTag.iterrows():\n",
    "        # Extract values from the DataFrame\n",
    "        postid_value = row['Post.id']\n",
    "        tagid_value = row['Tag.id']\n",
    "        \n",
    "        \n",
    "        \n",
    "         \n",
    "        \n",
    "        cursor.execute(query, (postid_value, tagid_value))\n",
    "        connection.commit()\n",
    "\n",
    "# Close the database connection\n",
    "connection.close()"
   ]
  },
  {
   "cell_type": "markdown",
   "id": "db1cdbf3",
   "metadata": {},
   "source": [
    "## Tag Has Type Tagclass"
   ]
  },
  {
   "cell_type": "code",
   "execution_count": 94,
   "id": "5e9deb62",
   "metadata": {},
   "outputs": [
    {
     "data": {
      "text/html": [
       "<div>\n",
       "<style scoped>\n",
       "    .dataframe tbody tr th:only-of-type {\n",
       "        vertical-align: middle;\n",
       "    }\n",
       "\n",
       "    .dataframe tbody tr th {\n",
       "        vertical-align: top;\n",
       "    }\n",
       "\n",
       "    .dataframe thead th {\n",
       "        text-align: right;\n",
       "    }\n",
       "</style>\n",
       "<table border=\"1\" class=\"dataframe\">\n",
       "  <thead>\n",
       "    <tr style=\"text-align: right;\">\n",
       "      <th></th>\n",
       "      <th>Tag.id</th>\n",
       "      <th>TagClass.id</th>\n",
       "    </tr>\n",
       "  </thead>\n",
       "  <tbody>\n",
       "    <tr>\n",
       "      <th>0</th>\n",
       "      <td>0</td>\n",
       "      <td>349</td>\n",
       "    </tr>\n",
       "    <tr>\n",
       "      <th>1</th>\n",
       "      <td>1</td>\n",
       "      <td>211</td>\n",
       "    </tr>\n",
       "    <tr>\n",
       "      <th>2</th>\n",
       "      <td>2</td>\n",
       "      <td>98</td>\n",
       "    </tr>\n",
       "    <tr>\n",
       "      <th>3</th>\n",
       "      <td>3</td>\n",
       "      <td>336</td>\n",
       "    </tr>\n",
       "    <tr>\n",
       "      <th>4</th>\n",
       "      <td>4</td>\n",
       "      <td>336</td>\n",
       "    </tr>\n",
       "  </tbody>\n",
       "</table>\n",
       "</div>"
      ],
      "text/plain": [
       "   Tag.id  TagClass.id\n",
       "0       0          349\n",
       "1       1          211\n",
       "2       2           98\n",
       "3       3          336\n",
       "4       4          336"
      ]
     },
     "execution_count": 94,
     "metadata": {},
     "output_type": "execute_result"
    }
   ],
   "source": [
    "TagHasType.head()"
   ]
  },
  {
   "cell_type": "code",
   "execution_count": 95,
   "id": "2e2f8e55",
   "metadata": {},
   "outputs": [],
   "source": [
    "TagHasType['Tag.id'] = TagHasType['Tag.id'].astype('int64')\n",
    "TagHasType['TagClass.id'] = TagHasType['TagClass.id'].astype('int64')"
   ]
  },
  {
   "cell_type": "code",
   "execution_count": 96,
   "id": "3285d566",
   "metadata": {},
   "outputs": [
    {
     "name": "stdout",
     "output_type": "stream",
     "text": [
      "<class 'pandas.core.frame.DataFrame'>\n",
      "RangeIndex: 16080 entries, 0 to 16079\n",
      "Data columns (total 2 columns):\n",
      " #   Column       Non-Null Count  Dtype\n",
      "---  ------       --------------  -----\n",
      " 0   Tag.id       16080 non-null  int64\n",
      " 1   TagClass.id  16080 non-null  int64\n",
      "dtypes: int64(2)\n",
      "memory usage: 251.4 KB\n"
     ]
    }
   ],
   "source": [
    "TagHasType.info()"
   ]
  },
  {
   "cell_type": "code",
   "execution_count": 97,
   "id": "729e0b00",
   "metadata": {},
   "outputs": [],
   "source": [
    "register_adapter(np.int64, AsIs)\n",
    "\n",
    "query = \"\"\"INSERT INTO Tag_HasType_TagClass (\n",
    "    TagID,\n",
    "    TagClassID) \n",
    "    VALUES (%s, %s)\"\"\"\n",
    "\n",
    "\n",
    "# Iterate over rows in the DataFrame and insert data into the table\n",
    "\n",
    "connection = psycopg2.connect(\n",
    "        dbname=\"social_3\",\n",
    "        user=\"postgres\",\n",
    "        password=\"password\",\n",
    "        host=\"localhost\",\n",
    "        port=\"5432\"\n",
    "    )\n",
    "\n",
    "   \n",
    "with connection.cursor() as cursor:\n",
    "    \n",
    "    for index, row in TagHasType.iterrows():\n",
    "        # Extract values from the DataFrame\n",
    "        tagid_value = row['Tag.id']\n",
    "        tagclassid_value = row['TagClass.id']\n",
    "        \n",
    "        \n",
    "        \n",
    "         \n",
    "        \n",
    "        cursor.execute(query, (tagid_value, tagclassid_value))\n",
    "        connection.commit()\n",
    "\n",
    "# Close the database connection\n",
    "connection.close()"
   ]
  },
  {
   "cell_type": "markdown",
   "id": "1130ebb4",
   "metadata": {},
   "source": [
    "## Tagclass_is_subclass"
   ]
  },
  {
   "cell_type": "code",
   "execution_count": 99,
   "id": "af2f53f1",
   "metadata": {},
   "outputs": [
    {
     "name": "stdout",
     "output_type": "stream",
     "text": [
      "<class 'pandas.core.frame.DataFrame'>\n",
      "RangeIndex: 70 entries, 0 to 69\n",
      "Data columns (total 2 columns):\n",
      " #   Column         Non-Null Count  Dtype\n",
      "---  ------         --------------  -----\n",
      " 0   TagClass.id    70 non-null     int64\n",
      " 1   TagClass.id.1  70 non-null     int64\n",
      "dtypes: int64(2)\n",
      "memory usage: 1.2 KB\n"
     ]
    }
   ],
   "source": [
    "TagClass_isSubclass.info()"
   ]
  },
  {
   "cell_type": "code",
   "execution_count": 100,
   "id": "447b428e",
   "metadata": {},
   "outputs": [],
   "source": [
    "register_adapter(np.int64, AsIs)\n",
    "\n",
    "query = \"\"\"INSERT INTO TagClass_issubclass_Tagclass (\n",
    "    TagClassID_A,\n",
    "    TagClassID_B) \n",
    "    VALUES (%s, %s)\"\"\"\n",
    "\n",
    "\n",
    "# Iterate over rows in the DataFrame and insert data into the table\n",
    "\n",
    "connection = psycopg2.connect(\n",
    "        dbname=\"social_3\",\n",
    "        user=\"postgres\",\n",
    "        password=\"password\",\n",
    "        host=\"localhost\",\n",
    "        port=\"5432\"\n",
    "    )\n",
    "\n",
    "   \n",
    "with connection.cursor() as cursor:\n",
    "    \n",
    "    for index, row in TagClass_isSubclass.iterrows():\n",
    "        # Extract values from the DataFrame\n",
    "        TagClassID_A_value = row['TagClass.id']\n",
    "        TagClassID_B_value = row['TagClass.id.1']\n",
    "        \n",
    "        \n",
    "        \n",
    "         \n",
    "        \n",
    "        cursor.execute(query, (TagClassID_A_value, TagClassID_B_value))\n",
    "        connection.commit()\n",
    "\n",
    "# Close the database connection\n",
    "connection.close()"
   ]
  },
  {
   "cell_type": "markdown",
   "id": "7cf65b3b",
   "metadata": {},
   "source": [
    "## Comment Has Tag"
   ]
  },
  {
   "cell_type": "code",
   "execution_count": 101,
   "id": "c04a08d2",
   "metadata": {},
   "outputs": [
    {
     "data": {
      "text/html": [
       "<div>\n",
       "<style scoped>\n",
       "    .dataframe tbody tr th:only-of-type {\n",
       "        vertical-align: middle;\n",
       "    }\n",
       "\n",
       "    .dataframe tbody tr th {\n",
       "        vertical-align: top;\n",
       "    }\n",
       "\n",
       "    .dataframe thead th {\n",
       "        text-align: right;\n",
       "    }\n",
       "</style>\n",
       "<table border=\"1\" class=\"dataframe\">\n",
       "  <thead>\n",
       "    <tr style=\"text-align: right;\">\n",
       "      <th></th>\n",
       "      <th>Comment.id</th>\n",
       "      <th>Tag.id</th>\n",
       "    </tr>\n",
       "  </thead>\n",
       "  <tbody>\n",
       "    <tr>\n",
       "      <th>0</th>\n",
       "      <td>68719476865</td>\n",
       "      <td>2092</td>\n",
       "    </tr>\n",
       "    <tr>\n",
       "      <th>1</th>\n",
       "      <td>68719476867</td>\n",
       "      <td>2808</td>\n",
       "    </tr>\n",
       "    <tr>\n",
       "      <th>2</th>\n",
       "      <td>68719476868</td>\n",
       "      <td>291</td>\n",
       "    </tr>\n",
       "    <tr>\n",
       "      <th>3</th>\n",
       "      <td>68719476870</td>\n",
       "      <td>2036</td>\n",
       "    </tr>\n",
       "    <tr>\n",
       "      <th>4</th>\n",
       "      <td>68719476872</td>\n",
       "      <td>543</td>\n",
       "    </tr>\n",
       "  </tbody>\n",
       "</table>\n",
       "</div>"
      ],
      "text/plain": [
       "    Comment.id  Tag.id\n",
       "0  68719476865    2092\n",
       "1  68719476867    2808\n",
       "2  68719476868     291\n",
       "3  68719476870    2036\n",
       "4  68719476872     543"
      ]
     },
     "execution_count": 101,
     "metadata": {},
     "output_type": "execute_result"
    }
   ],
   "source": [
    "Comment_hastag.head()"
   ]
  },
  {
   "cell_type": "code",
   "execution_count": 102,
   "id": "e5be1b49",
   "metadata": {},
   "outputs": [],
   "source": [
    "register_adapter(np.int64, AsIs)\n",
    "\n",
    "query = \"\"\"INSERT INTO CommentHasTag (\n",
    "    CommentID,\n",
    "    TagID) \n",
    "    VALUES (%s, %s)\"\"\"\n",
    "\n",
    "\n",
    "# Iterate over rows in the DataFrame and insert data into the table\n",
    "\n",
    "connection = psycopg2.connect(\n",
    "        dbname=\"social_3\",\n",
    "        user=\"postgres\",\n",
    "        password=\"password\",\n",
    "        host=\"localhost\",\n",
    "        port=\"5432\"\n",
    "    )\n",
    "\n",
    "   \n",
    "with connection.cursor() as cursor:\n",
    "    \n",
    "    for index, row in Comment_hastag.iterrows():\n",
    "        # Extract values from the DataFrame\n",
    "        CommentID_value = row['Comment.id']\n",
    "        TagID_value = row['Tag.id']\n",
    "        \n",
    "        \n",
    "        \n",
    "         \n",
    "        \n",
    "        cursor.execute(query, (CommentID_value, TagID_value))\n",
    "        connection.commit()\n",
    "\n",
    "# Close the database connection\n",
    "connection.close()"
   ]
  },
  {
   "cell_type": "markdown",
   "id": "da04113b",
   "metadata": {},
   "source": [
    "## Person Likes Post"
   ]
  },
  {
   "cell_type": "code",
   "execution_count": 103,
   "id": "0d5fd702",
   "metadata": {
    "scrolled": true
   },
   "outputs": [
    {
     "name": "stdout",
     "output_type": "stream",
     "text": [
      "<class 'pandas.core.frame.DataFrame'>\n",
      "RangeIndex: 765 entries, 0 to 764\n",
      "Data columns (total 3 columns):\n",
      " #   Column        Non-Null Count  Dtype \n",
      "---  ------        --------------  ----- \n",
      " 0   Person.id     765 non-null    int64 \n",
      " 1   Post.id       765 non-null    int64 \n",
      " 2   creationDate  765 non-null    object\n",
      "dtypes: int64(2), object(1)\n",
      "memory usage: 18.1+ KB\n"
     ]
    }
   ],
   "source": [
    "PersonLikesPost.info()"
   ]
  },
  {
   "cell_type": "code",
   "execution_count": 104,
   "id": "57ed1a26",
   "metadata": {},
   "outputs": [],
   "source": [
    "PersonLikesPost['creationDate'] = pd.to_datetime(PersonLikesPost['creationDate'], errors='coerce')"
   ]
  },
  {
   "cell_type": "code",
   "execution_count": 105,
   "id": "fd2e6987",
   "metadata": {},
   "outputs": [],
   "source": [
    "query = \"\"\"INSERT INTO PersonLikesPost (\n",
    "    PersonID,\n",
    "    PostID,\n",
    "    CreationDate) \n",
    "    VALUES (%s, %s, %s)\"\"\"\n",
    "\n",
    "\n",
    "\n",
    "connection = psycopg2.connect(\n",
    "        dbname=\"social_3\",\n",
    "        user=\"postgres\",\n",
    "        password=\"password\",\n",
    "        host=\"localhost\",\n",
    "        port=\"5432\"\n",
    "    )\n",
    "\n",
    "   \n",
    "with connection.cursor() as cursor:\n",
    "    \n",
    "    for index, row in PersonLikesPost.iterrows():\n",
    "        # Extract values from the DataFrame\n",
    "        PersonID_value = row['Person.id']\n",
    "        PostID_value = row['Post.id']\n",
    "        CreationDate_value= row['creationDate']\n",
    "        \n",
    "        \n",
    "        \n",
    "         \n",
    "        \n",
    "        cursor.execute(query, (PersonID_value, PostID_value, CreationDate_value))\n",
    "        connection.commit()\n",
    "\n",
    "# Close the database connection\n",
    "connection.close()"
   ]
  },
  {
   "cell_type": "markdown",
   "id": "2d3054ed",
   "metadata": {},
   "source": [
    "## Person Likes Comment"
   ]
  },
  {
   "cell_type": "code",
   "execution_count": 106,
   "id": "03b2c9f6",
   "metadata": {
    "scrolled": true
   },
   "outputs": [
    {
     "name": "stdout",
     "output_type": "stream",
     "text": [
      "<class 'pandas.core.frame.DataFrame'>\n",
      "RangeIndex: 374 entries, 0 to 373\n",
      "Data columns (total 3 columns):\n",
      " #   Column        Non-Null Count  Dtype \n",
      "---  ------        --------------  ----- \n",
      " 0   Person.id     374 non-null    int64 \n",
      " 1   Comment.id    374 non-null    int64 \n",
      " 2   creationDate  374 non-null    object\n",
      "dtypes: int64(2), object(1)\n",
      "memory usage: 8.9+ KB\n"
     ]
    }
   ],
   "source": [
    "PersonLikesComment.info()"
   ]
  },
  {
   "cell_type": "code",
   "execution_count": 107,
   "id": "7e6540d5",
   "metadata": {},
   "outputs": [],
   "source": [
    "PersonLikesComment['creationDate'] = pd.to_datetime(PersonLikesComment['creationDate'], errors='coerce')"
   ]
  },
  {
   "cell_type": "code",
   "execution_count": 111,
   "id": "d1d399cd",
   "metadata": {},
   "outputs": [],
   "source": [
    "query = \"\"\"INSERT INTO PersonLikesComment (\n",
    "    PersonID,\n",
    "    CommentID,\n",
    "    CreationDate) \n",
    "    VALUES (%s, %s, %s)\"\"\"\n",
    "\n",
    "\n",
    "\n",
    "connection = psycopg2.connect(\n",
    "        dbname=\"social_3\",\n",
    "        user=\"postgres\",\n",
    "        password=\"password\",\n",
    "        host=\"localhost\",\n",
    "        port=\"5432\"\n",
    "    )\n",
    "\n",
    "   \n",
    "with connection.cursor() as cursor:\n",
    "    \n",
    "    for index, row in PersonLikesComment.iterrows():\n",
    "        # Extract values from the DataFrame\n",
    "        PersonID_value = row['Person.id']\n",
    "        CommentID_value = row['Comment.id']\n",
    "        CreationDate_value= row['creationDate']\n",
    "        \n",
    "        \n",
    "        \n",
    "         \n",
    "        \n",
    "        cursor.execute(query, (PersonID_value, CommentID_value, CreationDate_value))\n",
    "        connection.commit()\n",
    "\n",
    "# Close the database connection\n",
    "connection.close()"
   ]
  },
  {
   "cell_type": "markdown",
   "id": "062dd65f",
   "metadata": {},
   "source": [
    "## Person Has Interest"
   ]
  },
  {
   "cell_type": "code",
   "execution_count": 113,
   "id": "d7c3a1ec",
   "metadata": {
    "scrolled": true
   },
   "outputs": [
    {
     "name": "stdout",
     "output_type": "stream",
     "text": [
      "<class 'pandas.core.frame.DataFrame'>\n",
      "RangeIndex: 1992 entries, 0 to 1991\n",
      "Data columns (total 2 columns):\n",
      " #   Column     Non-Null Count  Dtype\n",
      "---  ------     --------------  -----\n",
      " 0   Person.id  1992 non-null   int64\n",
      " 1   Tag.id     1992 non-null   int64\n",
      "dtypes: int64(2)\n",
      "memory usage: 31.2 KB\n"
     ]
    }
   ],
   "source": [
    "PersonHasInterest.info()"
   ]
  },
  {
   "cell_type": "code",
   "execution_count": 114,
   "id": "d651fa1a",
   "metadata": {},
   "outputs": [],
   "source": [
    "query = \"\"\"INSERT INTO PersonHasInterestTag (\n",
    "    PersonID,\n",
    "    TagID) \n",
    "    VALUES (%s, %s)\"\"\"\n",
    "\n",
    "\n",
    "\n",
    "connection = psycopg2.connect(\n",
    "        dbname=\"social_3\",\n",
    "        user=\"postgres\",\n",
    "        password=\"password\",\n",
    "        host=\"localhost\",\n",
    "        port=\"5432\"\n",
    "    )\n",
    "\n",
    "   \n",
    "with connection.cursor() as cursor:\n",
    "    \n",
    "    for index, row in PersonHasInterest.iterrows():\n",
    "        # Extract values from the DataFrame\n",
    "        PersonID_value = row['Person.id']\n",
    "        TagID_value = row['Tag.id']\n",
    "        \n",
    "        \n",
    "        \n",
    "         \n",
    "        \n",
    "        cursor.execute(query, (PersonID_value, TagID_value))\n",
    "        connection.commit()\n",
    "\n",
    "# Close the database connection\n",
    "connection.close()"
   ]
  },
  {
   "cell_type": "markdown",
   "id": "c9d766f1",
   "metadata": {},
   "source": [
    "## Forum Has Tag"
   ]
  },
  {
   "cell_type": "code",
   "execution_count": 115,
   "id": "45f27b63",
   "metadata": {},
   "outputs": [
    {
     "name": "stdout",
     "output_type": "stream",
     "text": [
      "<class 'pandas.core.frame.DataFrame'>\n",
      "RangeIndex: 2703 entries, 0 to 2702\n",
      "Data columns (total 2 columns):\n",
      " #   Column    Non-Null Count  Dtype\n",
      "---  ------    --------------  -----\n",
      " 0   Forum.id  2703 non-null   int64\n",
      " 1   Tag.id    2703 non-null   int64\n",
      "dtypes: int64(2)\n",
      "memory usage: 42.4 KB\n"
     ]
    }
   ],
   "source": [
    "ForumHasTag.info()"
   ]
  },
  {
   "cell_type": "code",
   "execution_count": 116,
   "id": "d585a42d",
   "metadata": {},
   "outputs": [],
   "source": [
    "query = \"\"\"INSERT INTO ForumHasTag (\n",
    "    ForumID,\n",
    "    TagID) \n",
    "    VALUES (%s, %s)\"\"\"\n",
    "\n",
    "\n",
    "\n",
    "connection = psycopg2.connect(\n",
    "        dbname=\"social_3\",\n",
    "        user=\"postgres\",\n",
    "        password=\"password\",\n",
    "        host=\"localhost\",\n",
    "        port=\"5432\"\n",
    "    )\n",
    "\n",
    "   \n",
    "with connection.cursor() as cursor:\n",
    "    \n",
    "    for index, row in ForumHasTag.iterrows():\n",
    "        # Extract values from the DataFrame\n",
    "        ForumID_value = row['Forum.id']\n",
    "        TagID_value = row['Tag.id']\n",
    "        \n",
    "        \n",
    "        \n",
    "         \n",
    "        \n",
    "        cursor.execute(query, (ForumID_value, TagID_value))\n",
    "        connection.commit()\n",
    "\n",
    "# Close the database connection\n",
    "connection.close()"
   ]
  }
 ],
 "metadata": {
  "kernelspec": {
   "display_name": "Python 3 (ipykernel)",
   "language": "python",
   "name": "python3"
  },
  "language_info": {
   "codemirror_mode": {
    "name": "ipython",
    "version": 3
   },
   "file_extension": ".py",
   "mimetype": "text/x-python",
   "name": "python",
   "nbconvert_exporter": "python",
   "pygments_lexer": "ipython3",
   "version": "3.9.13"
  }
 },
 "nbformat": 4,
 "nbformat_minor": 5
}
